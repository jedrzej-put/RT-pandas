{
 "cells": [
  {
   "cell_type": "code",
   "execution_count": 21,
   "metadata": {},
   "outputs": [
    {
     "name": "stdout",
     "output_type": "stream",
     "text": [
      "title                   object\n",
      "site                    object\n",
      "country               category\n",
      "year_release             int64\n",
      "earnings                object\n",
      "director                object\n",
      "number_of_subjects       int64\n",
      "subject                 object\n",
      "type_of_subject       category\n",
      "race_known              object\n",
      "subject_race            object\n",
      "person_of_color          int64\n",
      "subject_sex             object\n",
      "lead_actor_actress      object\n",
      "dtype: object\n",
      "              title                                  site country  \\\n",
      "1  12 Years a Slave  http://www.imdb.com/title/tt2024544/   US/UK   \n",
      "2         127 Hours  http://www.imdb.com/title/tt1542344/   US/UK   \n",
      "3              1987  http://www.imdb.com/title/tt2833074/  Canada   \n",
      "4          20 Dates  http://www.imdb.com/title/tt0138987/      US   \n",
      "5                21  http://www.imdb.com/title/tt0478087/      US   \n",
      "\n",
      "   year_release earnings         director  number_of_subjects  \\\n",
      "1          2013   $56.7M    Steve McQueen                   1   \n",
      "2          2010   $18.3M      Danny Boyle                   1   \n",
      "3          2014        -    Ricardo Trogi                   1   \n",
      "4          1998    $537K  Myles Berkowitz                   1   \n",
      "5          2008   $81.2M   Robert Luketic                   1   \n",
      "\n",
      "            subject type_of_subject race_known      subject_race  \\\n",
      "1   Solomon Northup           Other      Known  African American   \n",
      "2      Aron Ralston         Athlete    Unknown               NaN   \n",
      "3     Ricardo Trogi           Other      Known             White   \n",
      "4   Myles Berkowitz           Other    Unknown               NaN   \n",
      "5           Jeff Ma           Other      Known    Asian American   \n",
      "\n",
      "   person_of_color subject_sex lead_actor_actress  \n",
      "1                1        Male   Chiwetel Ejiofor  \n",
      "2                0        Male       James Franco  \n",
      "3                0        Male  Jean-Carl Boucher  \n",
      "4                0        Male    Myles Berkowitz  \n",
      "5                1        Male       Jim Sturgess  \n"
     ]
    }
   ],
   "source": [
    "import pandas as pd\n",
    "def check_actor_actress(row):\n",
    "    if pd.isnull(row['lead_actor_actress']):\n",
    "        return False\n",
    "    else:\n",
    "        return True\n",
    "\n",
    "\n",
    "def process_data():\n",
    "    # Do not alter this line.\n",
    "    biopics = pd.read_csv(\"biopics.csv\", encoding='latin-1')\n",
    "    # Write your code here.\n",
    "    biopics.drop_duplicates(inplace=True,ignore_index=True)\n",
    "    biopics.rename(columns={\"box_office\":\"earnings\"}, inplace=True)\n",
    "    biopics.dropna(axis=0,  subset=[\"earnings\"],inplace=True)\n",
    "    biopics = pd.DataFrame(biopics.loc[biopics[\"year_release\"]>1990])\n",
    "\n",
    "    biopics = biopics.astype({'type_of_subject':'category', 'country':'category'},copy=False)\n",
    "    biopics[\"lead_actor_actress_known\"] = biopics.apply(lambda row: check_actor_actress(row), axis=1)\n",
    "    biopics[\"earnings\"] = biopics[\"earnings\"].apply(lambda x: x/1000000) \n",
    "    biopics = biopics[['title', 'year_release', 'earnings', 'country', 'type_of_subject', 'lead_actor_actress', 'lead_actor_actress_known']]\n",
    "    biopics.sort_values('earnings', ascending=False,inplace=True)\n",
    "    # Remember to return the right object.\n",
    "    return biopics.reset_index(drop=True)\n"
   ]
  },
  {
   "cell_type": "code",
   "execution_count": 37,
   "metadata": {},
   "outputs": [
    {
     "name": "stdout",
     "output_type": "stream",
     "text": [
      "4\n",
      "[False  True False False]\n"
     ]
    }
   ],
   "source": [
    "import numpy as np\n",
    "\n",
    "\n",
    "import numpy as np\n",
    "\n",
    "\n",
    "def augmented_euclidean_dist(a, b):\n",
    "    # Write your code here.\n",
    "    # Remember to return the right object.\n",
    "    filter = (a != -999) & (b != -999)\n",
    "    \n",
    "    _a = a[filter]\n",
    "    _b = b[filter]\n",
    "\n",
    "    if len(_a) < 2:\n",
    "        return np.Inf\n",
    "    else:\n",
    "        return np.sqrt(np.sum((_a - _b)**2))\n",
    "\n",
    "    \n",
    "    \n",
    "    \n",
    "\n",
    "a = np.array([1, 2, 3.5, 4.24])\n",
    "b = np.array([-999, 4, 1.2, 3])\n",
    "c = np.array([2, 1, -999, -999])\n",
    "\n",
    "#augmented_euclidean_dist(a, a)    # returns 0.0\n",
    "#augmented_euclidean_dist(a, 2*a)  # returns 5.9352\n",
    "#augmented_euclidean_dist(a, b)    # returns 3.2905\n",
    "#augmented_euclidean_dist(a, c)    # returns 1.4142\n",
    "augmented_euclidean_dist(b, c)    # returns inf"
   ]
  },
  {
   "cell_type": "code",
   "execution_count": null,
   "metadata": {},
   "outputs": [],
   "source": []
  }
 ],
 "metadata": {
  "interpreter": {
   "hash": "dfa3d95ed77f474a0a1ca7702a347a7696b5530a7de3730306954c8a04f005ad"
  },
  "kernelspec": {
   "display_name": "Python 3.8.5 ('base')",
   "language": "python",
   "name": "python3"
  },
  "language_info": {
   "codemirror_mode": {
    "name": "ipython",
    "version": 3
   },
   "file_extension": ".py",
   "mimetype": "text/x-python",
   "name": "python",
   "nbconvert_exporter": "python",
   "pygments_lexer": "ipython3",
   "version": "3.8.5"
  },
  "orig_nbformat": 4
 },
 "nbformat": 4,
 "nbformat_minor": 2
}
